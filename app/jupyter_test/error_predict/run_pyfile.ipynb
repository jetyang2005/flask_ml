{
 "cells": [
  {
   "cell_type": "code",
   "execution_count": null,
   "metadata": {},
   "outputs": [],
   "source": [
    "#批量执行当前文件夹下所有py文件  \n",
    "#import os    \n",
    "#lst=os.listdir(os.getcwd())     \n",
    "#  \n",
    "#for c in lst:  \n",
    "#    if os.path.isfile(c) and c.endswith('.py') and c.find(\"AllTest\")==-1:    #去掉AllTest.py文件  \n",
    "#        print(c)  \n",
    "#        os.system(os.path.join(os.getcwd(),c))    #E:\\Python\\mytest.py  \n",
    "#        \n",
    "#        \n",
    "for i in range(2):\n",
    "    %run D:\\zxdf\\Workspaces\\PycharmProjects\\flask_ml\\app\\rules\\error_predict\\esdata_normal_preprocessing.py\n",
    "    i+=1\n",
    "    print(\"loop:\", i )\n",
    "\n"
   ]
  },
  {
   "cell_type": "code",
   "execution_count": null,
   "metadata": {},
   "outputs": [],
   "source": []
  }
 ],
 "metadata": {
  "kernelspec": {
   "display_name": "Python 2",
   "language": "python",
   "name": "python2"
  },
  "language_info": {
   "codemirror_mode": {
    "name": "ipython",
    "version": 2
   },
   "file_extension": ".py",
   "mimetype": "text/x-python",
   "name": "python",
   "nbconvert_exporter": "python",
   "pygments_lexer": "ipython2",
   "version": "2.7.14"
  }
 },
 "nbformat": 4,
 "nbformat_minor": 2
}
