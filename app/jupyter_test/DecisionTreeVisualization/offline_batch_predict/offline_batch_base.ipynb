{
 "cells": [
  {
   "cell_type": "code",
   "execution_count": 1,
   "metadata": {},
   "outputs": [],
   "source": [
    "#!/usr/bin/env python\n",
    "# -*- coding:utf-8 -*-\n",
    "import os       \n",
    "os.chdir('D:/zxdf/Workspaces/PycharmProjects/flask_ml')\n",
    "from app import config\n",
    "from elasticsearch import Elasticsearch\n",
    "es = Elasticsearch([config.ES_HOST],\n",
    "                   http_auth=('admin', 'admin'),\n",
    "                   port=config.ES_PORT)\n",
    "\n",
    "\n"
   ]
  },
  {
   "cell_type": "code",
   "execution_count": null,
   "metadata": {},
   "outputs": [],
   "source": [
    "import json\n",
    "import sys\n",
    "\n",
    "#dir(parmStr)\n",
    "#read_json_str = str(parmStr).encode('ascii')\n",
    "#.decode('utf-8')\n",
    "#print read_json_str\n",
    "#read_json = json.loads(str({u\"foo\": \"bar\"}).encode('raw_unicode_escape').decode('utf8'))\n",
    "\n",
    "#print \"read_json is %s end\" % read_json_str\n",
    "#print str({u\"foo\": \"bar\"})\n",
    "\n",
    "#json.dumps(read_json)\n",
    "#print \"turns is: %s \" %turns"
   ]
  },
  {
   "cell_type": "code",
   "execution_count": null,
   "metadata": {},
   "outputs": [],
   "source": [
    "from datetime import datetime\n",
    "\n",
    "#es_util.create_index(es_index_name, test_index_mapping)\n",
    "\n",
    "# {\n",
    "#                \"studentNo\": '4',\n",
    "#                \"name\":'test',\n",
    "#                \"male\": 'male',\n",
    "#                \"age\": 20,\n",
    "#                \"birthday\": datetime.now().strftime( \"%Y-%m-%dT%H:%M:%S.000+0800\" ),\n",
    "#                \"classNo\": 'c100',\n",
    "#                \"address\": 'liaoning',\n",
    "#                \"isLeader\": 'true'\n",
    "#                }\n",
    "\n",
    "#print \"begin time is ：\"+datetime.now().strftime( \"%Y-%m-%dT%H:%M:%S.000+0800\" )\n",
    "#es_util.insert_single_data(es_index_name, es_type_name ,es_sample_data)\n",
    "#print \"end time is ：\"+datetime.now().strftime( \"%Y-%m-%dT%H:%M:%S.000+0800\" )\n"
   ]
  },
  {
   "cell_type": "code",
   "execution_count": null,
   "metadata": {},
   "outputs": [],
   "source": [
    "mapping_body =  {\n",
    "    \"mappings\" : {\n",
    "      \"test\" : {\n",
    "        \"properties\" : {\n",
    "          \"@timestamp\" : {\n",
    "            \"type\" : \"date\"\n",
    "          },\n",
    "          \"_createDate_\" : {\n",
    "            \"type\" : \"date\",\n",
    "            \"format\" : \"yyyy-MM-dd'T'HH:mm:ss.SSS'+08:00'\"\n",
    "          },\n",
    "          \"_ip_\" : {\n",
    "            \"type\" : \"keyword\"\n",
    "          },\n",
    "          \"_nodeName_\" : {\n",
    "            \"type\" : \"keyword\"\n",
    "          },\n",
    "          \"_port_\" : {\n",
    "            \"type\" : \"keyword\"\n",
    "          },\n",
    "          \"_sysNo_\" : {\n",
    "            \"type\" : \"keyword\"\n",
    "          },\n",
    "          \"fileName\" : {\n",
    "            \"type\" : \"keyword\"\n",
    "          },\n",
    "          \"msgId\" : {\n",
    "            \"type\" : \"keyword\"\n",
    "          },\n",
    "          \"remindEmail\" : {\n",
    "            \"type\" : \"keyword\"\n",
    "          },\n",
    "          \"remindMessage\" : {\n",
    "            \"type\" : \"text\",\n",
    "            \"analyzer\" : \"standard\"\n",
    "          },\n",
    "          \"remindName\" : {\n",
    "            \"type\" : \"keyword\"\n",
    "          },\n",
    "          \"remindPerson\" : {\n",
    "            \"type\" : \"keyword\"\n",
    "          },\n",
    "          \"remindStatus\" : {\n",
    "            \"type\" : \"keyword\"\n",
    "          },\n",
    "          \"remindType\" : {\n",
    "            \"type\" : \"keyword\"\n",
    "          },\n",
    "          \"remindWay\" : {\n",
    "            \"type\" : \"keyword\"\n",
    "          },\n",
    "          \"schedule_batchid\" : {\n",
    "            \"type\" : \"keyword\"\n",
    "          },\n",
    "          \"searchCondition\" : {\n",
    "            \"type\" : \"keyword\"\n",
    "          },\n",
    "          \"searchIndex\" : {\n",
    "            \"type\" : \"keyword\"\n",
    "          }\n",
    "        }\n",
    "      }\n",
    "    }\n",
    "}"
   ]
  },
  {
   "cell_type": "code",
   "execution_count": null,
   "metadata": {},
   "outputs": [],
   "source": [
    "esdata =  {\n",
    "          \"fileName\" : \"elast-alert\",\n",
    "          \"_port_\" : \"9300\",\n",
    "          \"searchCondition\" : \"MySQLSyntaxErrorException\",\n",
    "          \"remindStatus\" : \"待发送\",\n",
    "          \"msgId\" : \"MySQLSyntaxErrorException_1008-syslog-*_20171215181505046\",\n",
    "          \"searchIndex\" : \"1008-syslog-*\",\n",
    "          \"_createDate_\" : \"2017-12-15T18:15:05.046+08:00\",\n",
    "          \"remindWay\" : \"email\",\n",
    "          \"remindMessage\" : \"监控名称:MySQLSyntaxErrorException;模型:1008-syslog-*;时间范围:2017-12-15T18:14:00.182+08:00 TO 2017-12-15T18:15:02.825+08:00;搜索条件:MySQLSyntaxErrorException;查询结果:7;阈值:1;日志内容:[{_id:AWBZrKwCOZqiP5ObhUe4,@timestamp:2017-12-15T18:14:52.103+08:00},{_id:AWBZrKwCOZqiP5ObhUe7,@timestamp:2017-12-15T18:14:52.088+08:00},{_id:AWBZrKwCOZqiP5ObhUe5,@timestamp:2017-12-15T18:14:52.057+08:00},{_id:AWBZrKwCOZqiP5ObhUe-,@timestamp:2017-12-15T18:14:51.939+08:00},{_id:AWBZrKwCOZqiP5ObhUe9,@timestamp:2017-12-15T18:14:51.932+08:00},{_id:AWBZrKwCOZqiP5ObhUe8,@timestamp:2017-12-15T18:14:51.917+08:00},{_id:AWBZrKwCOZqiP5ObhUe6,@timestamp:2017-12-15T18:14:51.887+08:00},];\",\n",
    "          \"remindName\" : \"MySQLSyntaxErrorException\",\n",
    "          \"@timestamp\" : \"2017-12-15T18:15:05.046+08:00\",\n",
    "          \"_ip_\" : \"127.0.0.1\",\n",
    "          \"schedule_batchid\" : \"b20171215181501\",\n",
    "          \"remindEmail\" : \"hujl@linsdom.com\",\n",
    "          \"_sysNo_\" : \"1\",\n",
    "          \"remindPerson\" : \"张三\",\n",
    "          \"remindType\" : \"alert\",\n",
    "          \"_nodeName_\" : \"node\"\n",
    "        }"
   ]
  },
  {
   "cell_type": "code",
   "execution_count": null,
   "metadata": {},
   "outputs": [],
   "source": [
    "index = \"py-test04\"\n",
    "doc_type= \"test\"\n",
    "#判断索引是否存在\n",
    "#es.indices.exists(index)\n",
    "#判断type是否存在\n",
    "#es.indices.exists_type(index,doc_type)\n",
    "#获得mapping\n",
    "#es.indices.get_mapping(index, doc_type)\n",
    "#创建mapping\n",
    "#####es.indices.put_mapping(doc_type,test_index_mapping)\n",
    "\n",
    "\n",
    "esid=\"AWF0RV8-clO2_wMhQ--o\"\n",
    "#es.exists(index, doc_type, esid)\n",
    "#es.indices.create(index,mapping_body)\n",
    "#es.index(index, doc_type, body=esdata,refresh='true')\n",
    "\n",
    "\n"
   ]
  },
  {
   "cell_type": "code",
   "execution_count": null,
   "metadata": {},
   "outputs": [],
   "source": [
    "# 查询全部\n",
    "querybody = {\"query\": {\n",
    "                    \"match_all\": {}\n",
    "                }\n",
    "             }\n",
    "\n",
    "#es_util.query(es_index_name, es_type_name, query_data)"
   ]
  },
  {
   "cell_type": "code",
   "execution_count": null,
   "metadata": {},
   "outputs": [],
   "source": [
    "es.search(index, doc_type, body=querybody)"
   ]
  },
  {
   "cell_type": "code",
   "execution_count": 5,
   "metadata": {},
   "outputs": [
    {
     "data": {
      "text/plain": [
       "{u'acknowledged': True}"
      ]
     },
     "execution_count": 5,
     "metadata": {},
     "output_type": "execute_result"
    }
   ],
   "source": [
    "es.indices.delete(\"py-test-alert\")"
   ]
  },
  {
   "cell_type": "code",
   "execution_count": null,
   "metadata": {},
   "outputs": [],
   "source": []
  }
 ],
 "metadata": {
  "kernelspec": {
   "display_name": "Python 2",
   "language": "python",
   "name": "python2"
  },
  "language_info": {
   "codemirror_mode": {
    "name": "ipython",
    "version": 2
   },
   "file_extension": ".py",
   "mimetype": "text/x-python",
   "name": "python",
   "nbconvert_exporter": "python",
   "pygments_lexer": "ipython2",
   "version": "2.7.14"
  }
 },
 "nbformat": 4,
 "nbformat_minor": 2
}
