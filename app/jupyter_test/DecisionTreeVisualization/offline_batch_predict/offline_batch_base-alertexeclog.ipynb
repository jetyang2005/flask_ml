{
 "cells": [
  {
   "cell_type": "code",
   "execution_count": 1,
   "metadata": {},
   "outputs": [],
   "source": [
    "#!/usr/bin/env python\n",
    "# -*- coding:utf-8 -*-\n",
    "import os       \n",
    "os.chdir('D:/zxdf/Workspaces/PycharmProjects/flask_ml')\n",
    "from app import config\n",
    "from elasticsearch import Elasticsearch\n",
    "es = Elasticsearch([config.ES_HOST],\n",
    "                   http_auth=('admin', 'admin'),\n",
    "                   port=config.ES_PORT)"
   ]
  },
  {
   "cell_type": "code",
   "execution_count": 2,
   "metadata": {},
   "outputs": [],
   "source": [
    "mapping_body = {\n",
    "    \"mappings\" : {\n",
    "      \"elast-alertexeclog\" : {\n",
    "        \"properties\" : {\n",
    "          \"@timestamp\" : {\n",
    "            \"type\" : \"date\"\n",
    "          },\n",
    "          \"_createDate_\" : {\n",
    "            \"type\" : \"date\",\n",
    "            \"format\" : \"yyyy-MM-dd'T'HH:mm:ss.SSS'+08:00'\"\n",
    "          },\n",
    "          \"_ip_\" : {\n",
    "            \"type\" : \"keyword\"\n",
    "          },\n",
    "          \"_nodeName_\" : {\n",
    "            \"type\" : \"keyword\"\n",
    "          },\n",
    "          \"_port_\" : {\n",
    "            \"type\" : \"keyword\"\n",
    "          },\n",
    "          \"_sysNo_\" : {\n",
    "            \"type\" : \"keyword\"\n",
    "          },\n",
    "          \"endtime\" : {\n",
    "            \"type\" : \"date\"\n",
    "          },\n",
    "          \"fileName\" : {\n",
    "            \"type\" : \"keyword\"\n",
    "          },\n",
    "          \"hits\" : {\n",
    "            \"type\" : \"keyword\"\n",
    "          },\n",
    "          \"matches\" : {\n",
    "            \"type\" : \"keyword\"\n",
    "          },\n",
    "          \"rule_name\" : {\n",
    "            \"type\" : \"keyword\"\n",
    "          },\n",
    "          \"schedule_batchid\" : {\n",
    "            \"type\" : \"keyword\"\n",
    "          },\n",
    "          \"starttime\" : {\n",
    "            \"type\" : \"date\"\n",
    "          },\n",
    "          \"status_info\" : {\n",
    "            \"type\" : \"keyword\"\n",
    "          },\n",
    "          \"time_taken\" : {\n",
    "            \"type\" : \"keyword\"\n",
    "          }\n",
    "        }\n",
    "      }\n",
    "    }\n",
    "  }"
   ]
  },
  {
   "cell_type": "code",
   "execution_count": 3,
   "metadata": {},
   "outputs": [],
   "source": [
    "esdata =  {\n",
    "          \"fileName\" : \"elast-alertexeclog\",\n",
    "          \"rule_name\" : \"MySQLSyntaxErrorException\",\n",
    "          \"_port_\" : \"9300\",\n",
    "          \"endtime\" : \"2017-12-15T18:20:20.169+08:00\",\n",
    "          \"_createDate_\" : \"2017-12-15T18:20:22.512+08:00\",\n",
    "          \"starttime\" : \"2017-12-15T18:19:00.344+08:00\",\n",
    "          \"matches\" : \"1\",\n",
    "          \"time_taken\" : \"12\",\n",
    "          \"hits\" : \"783\",\n",
    "          \"@timestamp\" : \"2017-12-15T18:20:22.512+08:00\",\n",
    "          \"_ip_\" : \"127.0.0.1\",\n",
    "          \"schedule_batchid\" : \"b20171215182020\",\n",
    "          \"_sysNo_\" : \"1\",\n",
    "          \"_nodeName_\" : \"node\"\n",
    "        }"
   ]
  },
  {
   "cell_type": "code",
   "execution_count": 6,
   "metadata": {},
   "outputs": [
    {
     "data": {
      "text/plain": [
       "{u'_id': u'AWF0k4aEclO2_wMhUUzU',\n",
       " u'_index': u'py-test-alertexeclog',\n",
       " u'_shards': {u'failed': 0, u'successful': 1, u'total': 2},\n",
       " u'_type': u'elast-alertexeclog',\n",
       " u'_version': 1,\n",
       " u'created': True,\n",
       " u'forced_refresh': True,\n",
       " u'result': u'created'}"
      ]
     },
     "execution_count": 6,
     "metadata": {},
     "output_type": "execute_result"
    }
   ],
   "source": [
    "#1-elast-alertexeclog-20171220\n",
    "index = \"py-test-alertexeclog\"\n",
    "doc_type= \"elast-alertexeclog\"\n",
    "#判断索引是否存在\n",
    "#es.indices.exists(index)\n",
    "#判断type是否存在\n",
    "#es.indices.exists_type(index,doc_type)\n",
    "#es.indices.create(index,mapping_body)\n",
    "es.index(index, doc_type, body=esdata,refresh='true')"
   ]
  },
  {
   "cell_type": "code",
   "execution_count": 7,
   "metadata": {},
   "outputs": [],
   "source": [
    "# 查询全部\n",
    "querybody = {\"query\": {\n",
    "                    \"match_all\": {}\n",
    "                }\n",
    "             }\n",
    "\n",
    "#es_util.query(es_index_name, es_type_name, query_data)"
   ]
  },
  {
   "cell_type": "code",
   "execution_count": 8,
   "metadata": {},
   "outputs": [
    {
     "data": {
      "text/plain": [
       "{u'_shards': {u'failed': 0, u'successful': 5, u'total': 5},\n",
       " u'hits': {u'hits': [{u'_id': u'AWF0k4aEclO2_wMhUUzU',\n",
       "    u'_index': u'py-test-alertexeclog',\n",
       "    u'_score': 1.0,\n",
       "    u'_source': {u'@timestamp': u'2017-12-15T18:20:22.512+08:00',\n",
       "     u'_createDate_': u'2017-12-15T18:20:22.512+08:00',\n",
       "     u'_ip_': u'127.0.0.1',\n",
       "     u'_nodeName_': u'node',\n",
       "     u'_port_': u'9300',\n",
       "     u'_sysNo_': u'1',\n",
       "     u'endtime': u'2017-12-15T18:20:20.169+08:00',\n",
       "     u'fileName': u'elast-alertexeclog',\n",
       "     u'hits': u'783',\n",
       "     u'matches': u'1',\n",
       "     u'rule_name': u'MySQLSyntaxErrorException',\n",
       "     u'schedule_batchid': u'b20171215182020',\n",
       "     u'starttime': u'2017-12-15T18:19:00.344+08:00',\n",
       "     u'time_taken': u'12'},\n",
       "    u'_type': u'elast-alertexeclog'}],\n",
       "  u'max_score': 1.0,\n",
       "  u'total': 1},\n",
       " u'timed_out': False,\n",
       " u'took': 2}"
      ]
     },
     "execution_count": 8,
     "metadata": {},
     "output_type": "execute_result"
    }
   ],
   "source": [
    "es.search(index, doc_type, body=querybody)"
   ]
  },
  {
   "cell_type": "code",
   "execution_count": null,
   "metadata": {},
   "outputs": [],
   "source": []
  }
 ],
 "metadata": {
  "kernelspec": {
   "display_name": "Python 2",
   "language": "python",
   "name": "python2"
  },
  "language_info": {
   "codemirror_mode": {
    "name": "ipython",
    "version": 2
   },
   "file_extension": ".py",
   "mimetype": "text/x-python",
   "name": "python",
   "nbconvert_exporter": "python",
   "pygments_lexer": "ipython2",
   "version": "2.7.14"
  }
 },
 "nbformat": 4,
 "nbformat_minor": 2
}
