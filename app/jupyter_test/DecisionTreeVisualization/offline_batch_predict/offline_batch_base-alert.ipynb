{
 "cells": [
  {
   "cell_type": "code",
   "execution_count": 1,
   "metadata": {},
   "outputs": [],
   "source": [
    "#!/usr/bin/env python\n",
    "# -*- coding:utf-8 -*-\n",
    "import os       \n",
    "os.chdir('D:/zxdf/Workspaces/PycharmProjects/flask_ml')\n",
    "from app import config\n",
    "from elasticsearch import Elasticsearch\n",
    "es = Elasticsearch([config.ES_HOST],\n",
    "                   http_auth=('admin', 'admin'),\n",
    "                   port=config.ES_PORT)"
   ]
  },
  {
   "cell_type": "code",
   "execution_count": 2,
   "metadata": {},
   "outputs": [],
   "source": [
    "mapping_body =  {\n",
    "    \"mappings\" : {\n",
    "      \"elast-alert\" : {\n",
    "        \"properties\" : {\n",
    "          \"@timestamp\" : {\n",
    "            \"type\" : \"date\"\n",
    "          },\n",
    "          \"_createDate_\" : {\n",
    "            \"type\" : \"date\",\n",
    "            \"format\" : \"yyyy-MM-dd'T'HH:mm:ss.SSS'+08:00'\"\n",
    "          },\n",
    "          \"_ip_\" : {\n",
    "            \"type\" : \"keyword\"\n",
    "          },\n",
    "          \"_nodeName_\" : {\n",
    "            \"type\" : \"keyword\"\n",
    "          },\n",
    "          \"_port_\" : {\n",
    "            \"type\" : \"keyword\"\n",
    "          },\n",
    "          \"_sysNo_\" : {\n",
    "            \"type\" : \"keyword\"\n",
    "          },\n",
    "          \"fileName\" : {\n",
    "            \"type\" : \"keyword\"\n",
    "          },\n",
    "          \"msgId\" : {\n",
    "            \"type\" : \"keyword\"\n",
    "          },\n",
    "          \"remindEmail\" : {\n",
    "            \"type\" : \"keyword\"\n",
    "          },\n",
    "          \"remindMessage\" : {\n",
    "            \"type\" : \"text\",\n",
    "            \"analyzer\" : \"standard\"\n",
    "          },\n",
    "          \"remindName\" : {\n",
    "            \"type\" : \"keyword\"\n",
    "          },\n",
    "          \"remindPerson\" : {\n",
    "            \"type\" : \"keyword\"\n",
    "          },\n",
    "          \"remindStatus\" : {\n",
    "            \"type\" : \"keyword\"\n",
    "          },\n",
    "          \"remindType\" : {\n",
    "            \"type\" : \"keyword\"\n",
    "          },\n",
    "          \"remindWay\" : {\n",
    "            \"type\" : \"keyword\"\n",
    "          },\n",
    "          \"schedule_batchid\" : {\n",
    "            \"type\" : \"keyword\"\n",
    "          },\n",
    "          \"searchCondition\" : {\n",
    "            \"type\" : \"keyword\"\n",
    "          },\n",
    "          \"searchIndex\" : {\n",
    "            \"type\" : \"keyword\"\n",
    "          }\n",
    "        }\n",
    "      }\n",
    "    }\n",
    "}"
   ]
  },
  {
   "cell_type": "code",
   "execution_count": 3,
   "metadata": {},
   "outputs": [],
   "source": [
    "esdata =  {\n",
    "          \"fileName\" : \"elast-alert\",\n",
    "          \"_port_\" : \"9300\",\n",
    "          \"searchCondition\" : \"MySQLSyntaxErrorException\",\n",
    "          \"remindStatus\" : \"待发送\",\n",
    "          \"msgId\" : \"MySQLSyntaxErrorException_1008-syslog-*_20171215181505046\",\n",
    "          \"searchIndex\" : \"1008-syslog-*\",\n",
    "          \"_createDate_\" : \"2017-12-15T18:15:05.046+08:00\",\n",
    "          \"remindWay\" : \"email\",\n",
    "          \"remindMessage\" : \"监控名称:MySQLSyntaxErrorException;模型:1008-syslog-*;时间范围:2017-12-15T18:14:00.182+08:00 TO 2017-12-15T18:15:02.825+08:00;搜索条件:MySQLSyntaxErrorException;查询结果:7;阈值:1;日志内容:[{_id:AWBZrKwCOZqiP5ObhUe4,@timestamp:2017-12-15T18:14:52.103+08:00},{_id:AWBZrKwCOZqiP5ObhUe7,@timestamp:2017-12-15T18:14:52.088+08:00},{_id:AWBZrKwCOZqiP5ObhUe5,@timestamp:2017-12-15T18:14:52.057+08:00},{_id:AWBZrKwCOZqiP5ObhUe-,@timestamp:2017-12-15T18:14:51.939+08:00},{_id:AWBZrKwCOZqiP5ObhUe9,@timestamp:2017-12-15T18:14:51.932+08:00},{_id:AWBZrKwCOZqiP5ObhUe8,@timestamp:2017-12-15T18:14:51.917+08:00},{_id:AWBZrKwCOZqiP5ObhUe6,@timestamp:2017-12-15T18:14:51.887+08:00},];\",\n",
    "          \"remindName\" : \"MySQLSyntaxErrorException\",\n",
    "          \"@timestamp\" : \"2017-12-15T18:15:05.046+08:00\",\n",
    "          \"_ip_\" : \"127.0.0.1\",\n",
    "          \"schedule_batchid\" : \"b20171215181501\",\n",
    "          \"remindEmail\" : \"hujl@linsdom.com\",\n",
    "          \"_sysNo_\" : \"1\",\n",
    "          \"remindPerson\" : \"张三\",\n",
    "          \"remindType\" : \"alert\",\n",
    "          \"_nodeName_\" : \"node\"\n",
    "        }"
   ]
  },
  {
   "cell_type": "code",
   "execution_count": 4,
   "metadata": {},
   "outputs": [
    {
     "data": {
      "text/plain": [
       "{u'_id': u'AWF0lCTbclO2_wMhUbnJ',\n",
       " u'_index': u'py-test-alert',\n",
       " u'_shards': {u'failed': 0, u'successful': 1, u'total': 2},\n",
       " u'_type': u'elast-alert',\n",
       " u'_version': 1,\n",
       " u'created': True,\n",
       " u'forced_refresh': True,\n",
       " u'result': u'created'}"
      ]
     },
     "execution_count": 4,
     "metadata": {},
     "output_type": "execute_result"
    }
   ],
   "source": [
    "#1-elast-alert-20180109\n",
    "index = \"py-test-alert\"\n",
    "doc_type= \"elast-alert\"\n",
    "#判断索引是否存在\n",
    "#es.indices.exists(index)\n",
    "#判断type是否存在\n",
    "#es.indices.exists_type(index,doc_type)\n",
    "#获得mapping\n",
    "#es.indices.get_mapping(index, doc_type)\n",
    "es.indices.create(index,mapping_body)\n",
    "es.index(index, doc_type, body=esdata,refresh='true')"
   ]
  },
  {
   "cell_type": "code",
   "execution_count": 5,
   "metadata": {},
   "outputs": [],
   "source": [
    "# 查询全部\n",
    "querybody = {\"query\": {\n",
    "                    \"match_all\": {}\n",
    "                }\n",
    "             }\n",
    "#es_util.query(es_index_name, es_type_name, query_data)"
   ]
  },
  {
   "cell_type": "code",
   "execution_count": 6,
   "metadata": {},
   "outputs": [
    {
     "data": {
      "text/plain": [
       "{u'_shards': {u'failed': 0, u'successful': 5, u'total': 5},\n",
       " u'hits': {u'hits': [{u'_id': u'AWF0lCTbclO2_wMhUbnJ',\n",
       "    u'_index': u'py-test-alert',\n",
       "    u'_score': 1.0,\n",
       "    u'_source': {u'@timestamp': u'2017-12-15T18:15:05.046+08:00',\n",
       "     u'_createDate_': u'2017-12-15T18:15:05.046+08:00',\n",
       "     u'_ip_': u'127.0.0.1',\n",
       "     u'_nodeName_': u'node',\n",
       "     u'_port_': u'9300',\n",
       "     u'_sysNo_': u'1',\n",
       "     u'fileName': u'elast-alert',\n",
       "     u'msgId': u'MySQLSyntaxErrorException_1008-syslog-*_20171215181505046',\n",
       "     u'remindEmail': u'hujl@linsdom.com',\n",
       "     u'remindMessage': u'\\u76d1\\u63a7\\u540d\\u79f0:MySQLSyntaxErrorException;\\u6a21\\u578b:1008-syslog-*;\\u65f6\\u95f4\\u8303\\u56f4:2017-12-15T18:14:00.182+08:00 TO 2017-12-15T18:15:02.825+08:00;\\u641c\\u7d22\\u6761\\u4ef6:MySQLSyntaxErrorException;\\u67e5\\u8be2\\u7ed3\\u679c:7;\\u9608\\u503c:1;\\u65e5\\u5fd7\\u5185\\u5bb9:[{_id:AWBZrKwCOZqiP5ObhUe4,@timestamp:2017-12-15T18:14:52.103+08:00},{_id:AWBZrKwCOZqiP5ObhUe7,@timestamp:2017-12-15T18:14:52.088+08:00},{_id:AWBZrKwCOZqiP5ObhUe5,@timestamp:2017-12-15T18:14:52.057+08:00},{_id:AWBZrKwCOZqiP5ObhUe-,@timestamp:2017-12-15T18:14:51.939+08:00},{_id:AWBZrKwCOZqiP5ObhUe9,@timestamp:2017-12-15T18:14:51.932+08:00},{_id:AWBZrKwCOZqiP5ObhUe8,@timestamp:2017-12-15T18:14:51.917+08:00},{_id:AWBZrKwCOZqiP5ObhUe6,@timestamp:2017-12-15T18:14:51.887+08:00},];',\n",
       "     u'remindName': u'MySQLSyntaxErrorException',\n",
       "     u'remindPerson': u'\\u5f20\\u4e09',\n",
       "     u'remindStatus': u'\\u5f85\\u53d1\\u9001',\n",
       "     u'remindType': u'alert',\n",
       "     u'remindWay': u'email',\n",
       "     u'schedule_batchid': u'b20171215181501',\n",
       "     u'searchCondition': u'MySQLSyntaxErrorException',\n",
       "     u'searchIndex': u'1008-syslog-*'},\n",
       "    u'_type': u'elast-alert'}],\n",
       "  u'max_score': 1.0,\n",
       "  u'total': 1},\n",
       " u'timed_out': False,\n",
       " u'took': 4}"
      ]
     },
     "execution_count": 6,
     "metadata": {},
     "output_type": "execute_result"
    }
   ],
   "source": [
    "es.search(index, doc_type, body=querybody)"
   ]
  },
  {
   "cell_type": "code",
   "execution_count": 7,
   "metadata": {},
   "outputs": [],
   "source": [
    "#es.indices.delete(\"py-test-alert\")"
   ]
  }
 ],
 "metadata": {
  "kernelspec": {
   "display_name": "Python 2",
   "language": "python",
   "name": "python2"
  },
  "language_info": {
   "codemirror_mode": {
    "name": "ipython",
    "version": 2
   },
   "file_extension": ".py",
   "mimetype": "text/x-python",
   "name": "python",
   "nbconvert_exporter": "python",
   "pygments_lexer": "ipython2",
   "version": "2.7.14"
  }
 },
 "nbformat": 4,
 "nbformat_minor": 2
}
