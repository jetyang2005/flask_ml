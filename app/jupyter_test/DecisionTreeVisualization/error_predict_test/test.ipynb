{
 "cells": [
  {
   "cell_type": "code",
   "execution_count": 1,
   "metadata": {},
   "outputs": [],
   "source": [
    "# -*- coding: utf-8 -*-\n",
    "import sys\n",
    "import os       \n",
    "import pandas as pd\n",
    "import datetime\n",
    "\n",
    "os.chdir('D:/zxdf/Workspaces/PycharmProjects/flask_ml')\n",
    "from app import config, Elasticsearch_Util\n",
    "#from app.lib import nltk_text_analyze_lib as textAnalyzer\n",
    "#from app.lib import sklearn_classification_lib as skclassification\n",
    "\n",
    "starttime = datetime.datetime.now()\n",
    "print (\"当前的日期和时间是 %s\" % starttime)"
   ]
  },
  {
   "cell_type": "code",
   "execution_count": 2,
   "metadata": {},
   "outputs": [],
   "source": [
    "def getDataFromES():\n",
    "    df = None\n",
    "    records = [\n",
    "        {\"isException\" : 0, \"logBody\" :\"-Mapped java.lang.StringIndexOutOfBoundsException: String index out of range: 0 String String\"},\n",
    "        {\"isException\" : 1, \"logBody\" :\"-Mapped java.lang.StringIndexOutOfBoundsException:  index out of range: 0\"  }\n",
    "    ]\n",
    "    if records:\n",
    "        df = pd.DataFrame(records)\n",
    "    return df"
   ]
  },
  {
   "cell_type": "code",
   "execution_count": 3,
   "metadata": {},
   "outputs": [],
   "source": [
    "from sklearn.preprocessing import LabelEncoder\n",
    "\n",
    "tag = \"isException\"\n",
    "logmsg = \"logBody\"\n",
    "\n",
    "train_data = getDataFromES()\n",
    "feature_data_array = train_data[logmsg]\n",
    "class_data_array = train_data[tag]\n",
    "print len(feature_data_array)\n",
    "print len(class_data_array)\n",
    "# 将类别转化为数字标签\n",
    "#le = LabelEncoder()\n",
    "#train_labelValues = le.fit_transform(class_data_array)"
   ]
  },
  {
   "cell_type": "code",
   "execution_count": 4,
   "metadata": {},
   "outputs": [],
   "source": [
    "#训练数据日志体\n",
    "for indexs in train_data.index:\n",
    "    print \"%s%s\" %(train_data.loc[indexs].values[0:1],train_data.loc[indexs].values[1:2])"
   ]
  },
  {
   "cell_type": "code",
   "execution_count": 5,
   "metadata": {},
   "outputs": [],
   "source": [
    "import nltk\n",
    "import string\n",
    "from nltk.corpus import stopwords\n",
    "\n",
    "#训练数据关键词提取列表\n",
    "def tokenize(text):\n",
    "    tokens = nltk.word_tokenize(text)\n",
    "    tokens2=[]\n",
    "    for w in tokens:\n",
    "        if w[0]=='-':\n",
    "            tokens2.append(w[1:])\n",
    "        elif w[0]==\"'\":\n",
    "            tokens2.append(w[1:])    \n",
    "        else:\n",
    "            tokens2.append(w)\n",
    "    \n",
    "    stopword_tokens = [i for i in tokens2 if i not in string.punctuation]\n",
    "    stopword_tokens2 = [w for w in stopword_tokens if w not in stopwords.words('english')]\n",
    "    \n",
    "    stopwords_custom=[\"''\", \"``\",\"||\",\"'/\",\"'/'\",u\"'0x0\",\"'2\",\"'=\",\"'s\",'**','***','***.***','**constraint.unique_wt**','**failed','**method','--',\n",
    "                      '-1','-297991290629036654','-614','-6182496564283649260','-6787310117729693199','-8','-999999999',u'-e',\n",
    "                      '..','...','.\\\\xxx\\\\xxx.txt','/*','/**','/c','/p','0','1','==','b','c','e','x','===',\n",
    "                      'v'\n",
    "                     ]\n",
    "    stopword_tokens3 = [w for w in stopword_tokens2 if w not in stopwords_custom]    \n",
    "            \n",
    "    print  \"%s\" %(stopword_tokens3) \n",
    "    return stopword_tokens3"
   ]
  },
  {
   "cell_type": "code",
   "execution_count": 6,
   "metadata": {},
   "outputs": [],
   "source": [
    "from sklearn.feature_extraction.text import CountVectorizer\n",
    "vectorizer=CountVectorizer(tokenizer=tokenize, stop_words='english', decode_error='ignore')\n",
    "csr_mat = vectorizer.fit_transform(feature_data_array)\n",
    "# 获取词袋模型中的所有词\n",
    "wordlist = vectorizer.get_feature_names()  \n",
    "# tf矩阵 元素a[i][j]表示j词在i类文本中的tf\n",
    "countlist = csr_mat.toarray()"
   ]
  },
  {
   "cell_type": "code",
   "execution_count": 7,
   "metadata": {},
   "outputs": [],
   "source": [
    "#词频统计\n",
    "#print  vectorizer.vocabulary_\n",
    "#print  \"%s\" % (wordlist)"
   ]
  },
  {
   "cell_type": "code",
   "execution_count": 7,
   "metadata": {},
   "outputs": [],
   "source": [
    "#对应文档的关键词词频统计\n",
    "# 打印每类文本的tf词语词频，第一个for遍历所有文本，第二个for便利某一类文本下的词频\n",
    "for i in range(len(countlist)):\n",
    "    print \"%s\"%\"---------------------------------------------------line\",i,\"---------------------------------------------------\"\n",
    "    for j in range(len(wordlist)):\n",
    "            if  countlist[i][j]>0:\n",
    "                print \"%s\" %  \"keyword[\",wordlist[j],\"] tf[\",countlist[i][j],\"]\""
   ]
  },
  {
   "cell_type": "code",
   "execution_count": 8,
   "metadata": {},
   "outputs": [],
   "source": [
    "# 提取特征\n",
    "from sklearn.feature_extraction.text import TfidfTransformer\n",
    "tf_transformer=TfidfTransformer(norm=None)\n",
    "feature_datas= tf_transformer.fit_transform(csr_mat)\n",
    "weighttlist = feature_datas.toarray()"
   ]
  },
  {
   "cell_type": "code",
   "execution_count": 9,
   "metadata": {},
   "outputs": [],
   "source": [
    "#获得倒序的词频统计列表（词总数，词，所有出现改词的文档列表（文档id，词数））\n",
    "listtext=[]\n",
    "for j in range(len(wordlist)):    \n",
    "    lineidcountarray=[]\n",
    "    count=0\n",
    "    for i in range(len(weighttlist)):\n",
    "        if countlist[i][j]>0:\n",
    "            count+=countlist[i][j]\n",
    "            lineidcountmap=(i,countlist[i][j])\n",
    "            lineidcountarray.append(lineidcountmap)\n",
    "    textcontent=(count,wordlist[j],lineidcountarray)\n",
    "    listtext.append(textcontent)\n",
    "listtext=sorted(listtext, reverse=True)\n",
    "for text in listtext:\n",
    "    print  text"
   ]
  },
  {
   "cell_type": "code",
   "execution_count": 10,
   "metadata": {},
   "outputs": [],
   "source": [
    "#所有对应文档的tf与tf-idf\n",
    "for i in range(len(weighttlist)):\n",
    "    print \"%s\"%\"---------------------------------------------------line\",i,\"---------------------------------------------------\"\n",
    "    for j in range(len(wordlist)):\n",
    "            if  countlist[i][j]>0:\n",
    "                print \"%s\" %  \"keyword[\",wordlist[j],\"] tf[\",countlist[i][j],\"],tf-idf[\", weighttlist[i][j],\"]\""
   ]
  },
  {
   "cell_type": "code",
   "execution_count": 11,
   "metadata": {},
   "outputs": [],
   "source": [
    "#验证算法\n",
    "from sklearn.tree import DecisionTreeClassifier\n",
    "from sklearn.neighbors import KNeighborsClassifier\n",
    "from sklearn.model_selection import KFold\n",
    "from sklearn.model_selection import cross_val_score\n",
    "def compareAlgorithm(X_train,Y_train,num_folds=2, seed=7, scoring='accuracy'):\n",
    "    models = {}\n",
    "    models['KNN'] = KNeighborsClassifier()\n",
    "    models['CART'] = DecisionTreeClassifier()\n",
    "    results = []\n",
    "    for key in models:\n",
    "        kfold = KFold(n_splits=num_folds, random_state=seed)\n",
    "        cv_results = cross_val_score(models[key], X_train, Y_train, cv=kfold, scoring=scoring)\n",
    "        results.append(cv_results)\n",
    "        print('%s: %f (%f)' %(key, cv_results.mean(), cv_results.std()))\n",
    "    return models, results"
   ]
  },
  {
   "cell_type": "code",
   "execution_count": 15,
   "metadata": {},
   "outputs": [],
   "source": [
    "#compareAlgorithm(X_train=feature_datas, Y_train=class_data_array)"
   ]
  },
  {
   "cell_type": "code",
   "execution_count": 16,
   "metadata": {},
   "outputs": [
    {
     "data": {
      "text/plain": [
       "DecisionTreeClassifier(class_weight=None, criterion='gini', max_depth=None,\n            max_features=None, max_leaf_nodes=None,\n            min_impurity_decrease=0.0, min_impurity_split=None,\n            min_samples_leaf=1, min_samples_split=2,\n            min_weight_fraction_leaf=0.0, presort=False, random_state=None,\n            splitter='best')"
      ]
     },
     "execution_count": 16,
     "metadata": {},
     "output_type": "execute_result"
    }
   ],
   "source": [
    "#CART分类树算法使用基尼系数来代替信息增益比，基尼系数代表了模型的不纯度，基尼系数越小，则不纯度越低，特征越好。这和信息增益(比)是相反的。\n",
    "#对于生成的决策树做预测的时候，假如测试集里的样本A落到了某个叶子节点，而节点里有多个训练样本。\n",
    "#则对于A的类别预测采用的是这个叶子节点里概率最大的类别。\n",
    "\n",
    "#criterion=\"gini\",\n",
    "#splitter=\"best\",random\n",
    "#max_depth=None,\n",
    "#min_samples_split=2,\n",
    "#min_samples_leaf=1,\n",
    "#min_weight_fraction_leaf=0.,\n",
    "#max_features=None,\n",
    "#random_state=None,\n",
    "#max_leaf_nodes=None,\n",
    "#min_impurity_decrease=0.,\n",
    "#min_impurity_split=None,\n",
    "#class_weight=None,balanced\n",
    "#presort=False\n",
    "\n",
    "#,class_weight='balanced'\n",
    "model = DecisionTreeClassifier()\n",
    "model.fit(feature_datas, class_data_array)"
   ]
  },
  {
   "cell_type": "code",
   "execution_count": 18,
   "metadata": {},
   "outputs": [],
   "source": [
    "testline='-Mapped java.lang.StringIndexOutOfBoundsException: String index out of range: 0  '\n",
    "\n",
    "test_datas = []\n",
    "featureValue = testline.lower().strip()\n",
    "test_datas.append(featureValue)\n",
    "#test_feature_datas = tf_transformer.transform(test_datas)\n",
    "test_vect_datas=vectorizer.transform(test_datas)\n",
    "test_feature_datas= tf_transformer.transform(test_vect_datas)\n",
    "print model.predict(test_feature_datas)"
   ]
  },
  {
   "cell_type": "code",
   "execution_count": 19,
   "metadata": {},
   "outputs": [
    {
     "ename": "TypeError",
     "evalue": "ufunc 'add' did not contain a loop with signature matching types dtype('<U80') dtype('<U80') dtype('<U80')",
     "traceback": [
      "\u001b[1;31m---------------------------------------------------------------------------\u001b[0m",
      "\u001b[1;31mTypeError\u001b[0m                                 Traceback (most recent call last)",
      "\u001b[1;32m<ipython-input-19-501767b2d6b8>\u001b[0m in \u001b[0;36m<module>\u001b[1;34m()\u001b[0m\n\u001b[0;32m     13\u001b[0m                          \u001b[0mclass_names\u001b[0m\u001b[1;33m=\u001b[0m\u001b[0merror_target\u001b[0m\u001b[1;33m,\u001b[0m\u001b[1;33m\u001b[0m\u001b[0m\n\u001b[0;32m     14\u001b[0m                          \u001b[0mfilled\u001b[0m\u001b[1;33m=\u001b[0m\u001b[0mTrue\u001b[0m\u001b[1;33m,\u001b[0m \u001b[0mrounded\u001b[0m\u001b[1;33m=\u001b[0m\u001b[0mTrue\u001b[0m\u001b[1;33m,\u001b[0m\u001b[1;33m\u001b[0m\u001b[0m\n\u001b[1;32m---> 15\u001b[1;33m                          special_characters=True)  \n\u001b[0m\u001b[0;32m     16\u001b[0m \u001b[0mgraph\u001b[0m \u001b[1;33m=\u001b[0m \u001b[0mpydotplus\u001b[0m\u001b[1;33m.\u001b[0m\u001b[0mgraph_from_dot_data\u001b[0m\u001b[1;33m(\u001b[0m\u001b[0mdot_data\u001b[0m\u001b[1;33m)\u001b[0m\u001b[1;33m\u001b[0m\u001b[0m\n\u001b[0;32m     17\u001b[0m \u001b[0mImage\u001b[0m\u001b[1;33m(\u001b[0m\u001b[0mgraph\u001b[0m\u001b[1;33m.\u001b[0m\u001b[0mcreate_png\u001b[0m\u001b[1;33m(\u001b[0m\u001b[1;33m)\u001b[0m\u001b[1;33m)\u001b[0m\u001b[1;33m\u001b[0m\u001b[0m\n",
      "\u001b[1;32mD:\\zxdf\\software\\Anaconda2\\envs\\flask_ml\\lib\\site-packages\\sklearn\\tree\\export.pyc\u001b[0m in \u001b[0;36mexport_graphviz\u001b[1;34m(decision_tree, out_file, max_depth, feature_names, class_names, label, filled, leaves_parallel, impurity, node_ids, proportion, rotate, rounded, special_characters, precision)\u001b[0m\n\u001b[0;32m    462\u001b[0m             \u001b[0mrecurse\u001b[0m\u001b[1;33m(\u001b[0m\u001b[0mdecision_tree\u001b[0m\u001b[1;33m,\u001b[0m \u001b[1;36m0\u001b[0m\u001b[1;33m,\u001b[0m \u001b[0mcriterion\u001b[0m\u001b[1;33m=\u001b[0m\u001b[1;34m\"impurity\"\u001b[0m\u001b[1;33m)\u001b[0m\u001b[1;33m\u001b[0m\u001b[0m\n\u001b[0;32m    463\u001b[0m         \u001b[1;32melse\u001b[0m\u001b[1;33m:\u001b[0m\u001b[1;33m\u001b[0m\u001b[0m\n\u001b[1;32m--> 464\u001b[1;33m             \u001b[0mrecurse\u001b[0m\u001b[1;33m(\u001b[0m\u001b[0mdecision_tree\u001b[0m\u001b[1;33m.\u001b[0m\u001b[0mtree_\u001b[0m\u001b[1;33m,\u001b[0m \u001b[1;36m0\u001b[0m\u001b[1;33m,\u001b[0m \u001b[0mcriterion\u001b[0m\u001b[1;33m=\u001b[0m\u001b[0mdecision_tree\u001b[0m\u001b[1;33m.\u001b[0m\u001b[0mcriterion\u001b[0m\u001b[1;33m)\u001b[0m\u001b[1;33m\u001b[0m\u001b[0m\n\u001b[0m\u001b[0;32m    465\u001b[0m \u001b[1;33m\u001b[0m\u001b[0m\n\u001b[0;32m    466\u001b[0m         \u001b[1;31m# If required, draw leaf nodes at same depth as each other\u001b[0m\u001b[1;33m\u001b[0m\u001b[1;33m\u001b[0m\u001b[0m\n",
      "\u001b[1;32mD:\\zxdf\\software\\Anaconda2\\envs\\flask_ml\\lib\\site-packages\\sklearn\\tree\\export.pyc\u001b[0m in \u001b[0;36mrecurse\u001b[1;34m(tree, node_id, criterion, parent, depth)\u001b[0m\n\u001b[0;32m    330\u001b[0m             out_file.write('%d [label=%s'\n\u001b[0;32m    331\u001b[0m                            % (node_id,\n\u001b[1;32m--> 332\u001b[1;33m                               node_to_str(tree, node_id, criterion)))\n\u001b[0m\u001b[0;32m    333\u001b[0m \u001b[1;33m\u001b[0m\u001b[0m\n\u001b[0;32m    334\u001b[0m             \u001b[1;32mif\u001b[0m \u001b[0mfilled\u001b[0m\u001b[1;33m:\u001b[0m\u001b[1;33m\u001b[0m\u001b[0m\n",
      "\u001b[1;32mD:\\zxdf\\software\\Anaconda2\\envs\\flask_ml\\lib\\site-packages\\sklearn\\tree\\export.pyc\u001b[0m in \u001b[0;36mnode_to_str\u001b[1;34m(tree, node_id, criterion)\u001b[0m\n\u001b[0;32m    300\u001b[0m                                           \u001b[0mnp\u001b[0m\u001b[1;33m.\u001b[0m\u001b[0margmax\u001b[0m\u001b[1;33m(\u001b[0m\u001b[0mvalue\u001b[0m\u001b[1;33m)\u001b[0m\u001b[1;33m,\u001b[0m\u001b[1;33m\u001b[0m\u001b[0m\n\u001b[0;32m    301\u001b[0m                                           characters[2])\n\u001b[1;32m--> 302\u001b[1;33m             \u001b[0mnode_string\u001b[0m \u001b[1;33m+=\u001b[0m \u001b[0mclass_name\u001b[0m\u001b[1;33m\u001b[0m\u001b[0m\n\u001b[0m\u001b[0;32m    303\u001b[0m \u001b[1;33m\u001b[0m\u001b[0m\n\u001b[0;32m    304\u001b[0m         \u001b[1;31m# Clean up any trailing newlines\u001b[0m\u001b[1;33m\u001b[0m\u001b[1;33m\u001b[0m\u001b[0m\n",
      "\u001b[1;31mTypeError\u001b[0m: ufunc 'add' did not contain a loop with signature matching types dtype('<U80') dtype('<U80') dtype('<U80')"
     ],
     "output_type": "error"
    }
   ],
   "source": [
    "from sklearn import tree\n",
    "from IPython.display import Image  \n",
    "import pydotplus\n",
    "os.environ[\"PATH\"] += os.pathsep + r'D:/zxdf/software/Graphviz2.38/bin/'\n",
    "\n",
    "error_data=feature_datas\n",
    "# 获取词袋模型中的所有词\n",
    "error_feature_names = wordlist\n",
    "error_target=class_data_array\n",
    "\n",
    "dot_data = tree.export_graphviz(model, out_file=None, \n",
    "                         feature_names=error_feature_names,  \n",
    "                         class_names=error_target,  \n",
    "                         filled=True, rounded=True,  \n",
    "                         special_characters=True)  \n",
    "graph = pydotplus.graph_from_dot_data(dot_data)  \n",
    "Image(graph.create_png()) "
   ]
  }
 ],
 "metadata": {
  "kernelspec": {
   "display_name": "Python 2",
   "language": "python",
   "name": "python2"
  },
  "language_info": {
   "codemirror_mode": {
    "name": "ipython",
    "version": 2
   },
   "file_extension": ".py",
   "mimetype": "text/x-python",
   "name": "python",
   "nbconvert_exporter": "python",
   "pygments_lexer": "ipython2",
   "version": "2.7.14"
  }
 },
 "nbformat": 4,
 "nbformat_minor": 2
}
