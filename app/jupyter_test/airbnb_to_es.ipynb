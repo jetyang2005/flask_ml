{
 "cells": [
  {
   "cell_type": "code",
   "execution_count": 5,
   "metadata": {
    "collapsed": true
   },
   "outputs": [],
   "source": [
    "%matplotlib inline\n",
    "import importlib\n",
    "import pandas as pd\n",
    "import numpy as np\n",
    "from sklearn import ensemble\n",
    "from sklearn import linear_model\n",
    "from sklearn.grid_search import GridSearchCV\n",
    "from sklearn import preprocessing\n",
    "from sklearn.cross_validation import train_test_split\n",
    "import sklearn.metrics as metrics\n",
    "import matplotlib.pyplot as plt\n",
    "from collections import Counter\n",
    "import app.lib.sklearn_classification_lib as classification\n",
    "import app.lib.kafka_util as kafkautil\n",
    "from datetime import datetime\n",
    "import json\n",
    "from  app.lib.elasticsearch_util import Elasticsearch_Util"
   ]
  },
  {
   "cell_type": "code",
   "execution_count": 6,
   "metadata": {},
   "outputs": [],
   "source": [
    "LISTINGSFILE = 'app/jupyter_test/airbnbdata/listings.csv'\n",
    "df = pd.read_csv(LISTINGSFILE)\n",
    "# print df.head(10)\n",
    "df[\"@timestamp\"] = pd.to_datetime(df[\"scrape_id\"].astype(str))\n",
    "df[\"@timestamp\"] = pd.to_datetime(df[\"scrape_id\"].astype(str)).dt.strftime('%Y-%m-%d %H:%M:%S')\n",
    "df_json = df.head(1).to_json(orient='records')\n",
    "print df_json\n",
    "# # print df.dtypes\n",
    "# df_list = json.loads(df_json)"
   ]
  },
  {
   "cell_type": "code",
   "execution_count": 3,
   "metadata": {},
   "outputs": [],
   "source": [
    "# for i in df_list:\n",
    "#     print json.dumps(i)\n",
    "kafkaProducer = kafkautil.create_producer()\n",
    "kafkautil.produce_kafka_dataframe(kafkaProducer, 'linkdata__machinelearning__node__airbnb', df)"
   ]
  },
  {
   "cell_type": "code",
   "execution_count": 7,
   "metadata": {},
   "outputs": [],
   "source": [
    "es_util = Elasticsearch_Util()\n",
    "es_index_name = \"machinelearning*\"\n",
    "es_type_name = \"airbnb\"\n",
    "\n",
    "query_column_data = {\"query\": {\n",
    "                            \"match_all\": {}\n",
    "                      }\n",
    "                    }\n",
    "\n",
    "es_util.es_read_scroll_scan(es_index_name, es_type_name, query_column_data,500)"
   ]
  },
  {
   "cell_type": "code",
   "execution_count": 5,
   "metadata": {},
   "outputs": [],
   "source": [
    ""
   ]
  },
  {
   "cell_type": "code",
   "execution_count": null,
   "metadata": {},
   "outputs": [],
   "source": [
    ""
   ]
  }
 ],
 "metadata": {
  "kernelspec": {
   "display_name": "Python 2",
   "language": "python",
   "name": "python2"
  },
  "language_info": {
   "codemirror_mode": {
    "name": "ipython",
    "version": 2.0
   },
   "file_extension": ".py",
   "mimetype": "text/x-python",
   "name": "python",
   "nbconvert_exporter": "python",
   "pygments_lexer": "ipython2",
   "version": "2.7.6"
  }
 },
 "nbformat": 4,
 "nbformat_minor": 0
}